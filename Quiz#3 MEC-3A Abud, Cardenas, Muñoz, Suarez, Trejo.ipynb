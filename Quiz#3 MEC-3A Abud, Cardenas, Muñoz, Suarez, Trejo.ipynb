{
 "cells": [
  {
   "cell_type": "markdown",
   "metadata": {},
   "source": [
    "# QUIZ #3 MEC-3A"
   ]
  },
  {
   "cell_type": "markdown",
   "metadata": {},
   "source": [
    "# Members of the team"
   ]
  },
  {
   "cell_type": "markdown",
   "metadata": {},
   "source": [
    "*Abud Sepulveda Ricardo* -\n",
    "  *Cardenas Tovar Jovan Fernando* -\n",
    "  *Muñoz Real Diego Antonio* -\n",
    "  *Suarez Blanco Roberto Arturo* -\n",
    "  *Trejo Dolejal Emerson* "
   ]
  },
  {
   "cell_type": "code",
   "execution_count": 1,
   "metadata": {
    "scrolled": true
   },
   "outputs": [
    {
     "name": "stdout",
     "output_type": "stream",
     "text": [
      "introduce the number of data:  2\n",
      "introduce the data for x\n",
      "1\n",
      "3\n",
      "introduce the data for y\n",
      "4\n",
      "5\n",
      "y=3.5+0.5x\n"
     ]
    }
   ],
   "source": [
    "# develop a program that calculates the linear regression of a set of data introduced by the user. The program must show in the screen the equation obtained\n",
    "terms_x=int(input(\"introduce the number of data:  \"))\n",
    "data_x=[]\n",
    "data_y=[]\n",
    "sum_xy=0\n",
    "sum_xi=0\n",
    "sum_yi=0\n",
    "sum_x2=0\n",
    "sum_5=0\n",
    "print(\"introduce the data for x\")\n",
    "for i in range(0, terms_x):\n",
    "        new_x=int(input())\n",
    "        data_x.append(new_x)\n",
    "print(\"introduce the data for y\")\n",
    "for e in range(0, terms_x):\n",
    "        new_y=int(input())\n",
    "        data_y.append(new_y)\n",
    "for r in range(0, terms_x):\n",
    "        sum_xy=sum_xy+(data_x[r]*data_y[r])\n",
    "        sum_xi=sum_xi+data_x[r]\n",
    "        sum_yi=sum_yi+data_y[r]\n",
    "        sum_x2=sum_x2+data_x[r]**2\n",
    "sum_5=sum_xi**2\n",
    "b1=(terms_x*sum_xy-(sum_xi*sum_yi))/(terms_x*sum_x2-sum_5)\n",
    "b0=(sum_yi-(b1*sum_xi))/terms_x\n",
    "print(f\"y={b0}+{b1}x\")"
   ]
  },
  {
   "cell_type": "markdown",
   "metadata": {},
   "source": [
    "## DESCRIPTION"
   ]
  },
  {
   "cell_type": "markdown",
   "metadata": {},
   "source": [
    "The objective of the code is to compute the linear regression of a set of data, for this purpose, it is needed to use some instructions, such as, lists, for loops, and mathematical operations. First of all, the code ask to the user how many data he wants to introduce, then the code store the data in a list variable. Furthermore, the code do different summations in order to calculate b1 and b0, finally, the linear regression equation is shown to the user. "
   ]
  }
 ],
 "metadata": {
  "kernelspec": {
   "display_name": "Python 3",
   "language": "python",
   "name": "python3"
  },
  "language_info": {
   "codemirror_mode": {
    "name": "ipython",
    "version": 3
   },
   "file_extension": ".py",
   "mimetype": "text/x-python",
   "name": "python",
   "nbconvert_exporter": "python",
   "pygments_lexer": "ipython3",
   "version": "3.7.3"
  }
 },
 "nbformat": 4,
 "nbformat_minor": 2
}
