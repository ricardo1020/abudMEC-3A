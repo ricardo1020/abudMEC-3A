{
 "cells": [
  {
   "cell_type": "markdown",
   "metadata": {},
   "source": [
    "# EXCERCISE 2"
   ]
  },
  {
   "cell_type": "markdown",
   "metadata": {},
   "source": [
    "Write a program that maintains a short conversation with a real person, using the instructions if, elif and else."
   ]
  },
  {
   "cell_type": "code",
   "execution_count": null,
   "metadata": {},
   "outputs": [
    {
     "name": "stdout",
     "output_type": "stream",
     "text": [
      "Hey i'm your computer\n",
      "What's your name\n"
     ]
    }
   ],
   "source": [
    "print(\"Hey i'm your computer\")\n",
    "print(\"What\\'s your name\")\n",
    "name=input()\n",
    "print(f\"Nice to meet you {name}\")\n",
    "print(\"How's the weather today?\")\n",
    "weather=input()\n",
    "if(weather==\"sunny\"):\n",
    "    print(\"Oh what a nice day!\")\n",
    "elif(weather == \"rainy\"):\n",
    "    print(\"It\\'s a good moment to stay at home\")\n",
    "else:\n",
    "    print(\"I haven\\'t been in day like that\")\n",
    "print(\"How old are you?\")\n",
    "age=int(input())\n",
    "if(age <= 17 ):\n",
    "    print(\"You are too young!\")\n",
    "elif(17 < age < 23):\n",
    "    print(\"You should be in a university\")\n",
    "    print(\"In which university are you studying?\")\n",
    "    uni=input()\n",
    "    if(uni==\"ut\"):\n",
    "        print(\"That\\'s the best university in the zone!\")\n",
    "    elif(uni==\"uat\"):\n",
    "        print(\"Are there classes in that place? haha\")\n",
    "    else:\n",
    "        print(\"I don\\'t know that place\")\n",
    "else:\n",
    "    print(\"You are really an adult!\")\n",
    "print(\"what\\'s your favorite color?\")\n",
    "color=input()\n",
    "if(color==\"black\"):\n",
    "    print(\"You seem to be a dark person\")\n",
    "else:\n",
    "    print(f\"{color} is my favorite color too\")\n",
    "print(\"Do you like any sport?\")\n",
    "answer=input()\n",
    "if(answer== \"yes\"):\n",
    "    print(\"Which is it?\")\n",
    "    sport=input()\n",
    "    print(f\"Do you practice {sport}? \")\n",
    "    answer_2=input()\n",
    "    if(answer_2==\"yes\"):\n",
    "        print(\"Excellent you should be in a good shape!\")\n",
    "    else:\n",
    "        print(\"You\\'re a lazy person haha\")\n",
    "else:\n",
    "    print(\"That\\'s ok buddy\")\n",
    "print(\"Do you have a girlfriend or boyfriend?\")\n",
    "answer_3=input()\n",
    "if(answer_3==\"yes\"):\n",
    "    print(\"Great!, what\\'s her/his name?\")\n",
    "    name_2=input()\n",
    "    print(f\"I\\'d like to meet {name_2}\")\n",
    "else:\n",
    "    print(\"Oh, I hope you find someone soon!\")\n",
    "print(\"Do you want to keep chating with me?\")\n",
    "answer_4=input()\n",
    "if(answer_4==\"yes\"):\n",
    "    print(\"Sorry I have a meeting with my friends in the cloud, see you!\")\n",
    "else:\n",
    "    print(\"Ok, I hope to chat with you again, bye!\")"
   ]
  },
  {
   "cell_type": "code",
   "execution_count": null,
   "metadata": {},
   "outputs": [],
   "source": []
  }
 ],
 "metadata": {
  "kernelspec": {
   "display_name": "Python 3",
   "language": "python",
   "name": "python3"
  },
  "language_info": {
   "codemirror_mode": {
    "name": "ipython",
    "version": 3
   },
   "file_extension": ".py",
   "mimetype": "text/x-python",
   "name": "python",
   "nbconvert_exporter": "python",
   "pygments_lexer": "ipython3",
   "version": "3.7.3"
  }
 },
 "nbformat": 4,
 "nbformat_minor": 2
}
