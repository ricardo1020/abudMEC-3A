{
 "cells": [
  {
   "cell_type": "markdown",
   "metadata": {},
   "source": [
    "# Exam UNIT 2\n"
   ]
  },
  {
   "cell_type": "markdown",
   "metadata": {},
   "source": [
    "Develop a program to analyze data in real time. The program must update its prediction every time a new value is introduced. Use your program to analyze the data in Table 1, how long will it take for this device to reach a temperature of 35°C? Then, introduce the values from Table 2 and observe if there was a significant change in this prediction."
   ]
  },
  {
   "cell_type": "code",
   "execution_count": null,
   "metadata": {
    "scrolled": true
   },
   "outputs": [
    {
     "name": "stdout",
     "output_type": "stream",
     "text": [
      "How many data do you want to introduce? 5\n",
      "Introduce data for x: \n",
      "0\n",
      "30\n",
      "60\n",
      "90\n",
      "120\n",
      "Introdce data for y: \n",
      "20\n",
      "20.2\n",
      "20.2\n",
      "20.3\n",
      "20.4\n",
      "y=20.04 + 0.003x\n",
      "Time for 35°C: \n",
      "4986.666666666667\n",
      "Introduce 1 if yes\n",
      "Introduce 2 if no\n",
      "Do you want to introduce more data?: 1\n",
      "How many new data? 5\n",
      "Introdce data for x: \n",
      "150\n",
      "180\n",
      "210\n",
      "240\n",
      "270\n",
      "Introdce data for y: \n",
      "20.8\n",
      "21.1\n",
      "21.5\n",
      "21.7\n",
      "22.1\n",
      "y=-23.222068965517245 + 0.2578850574712644x\n",
      "Time for 35°C: \n",
      "225.76751649135318\n",
      "Introduce 1 if yes\n",
      "Introduce 2 if no\n"
     ]
    }
   ],
   "source": [
    "x=int(input(\"How many data do you want to introduce? \"))\n",
    "time=[]\n",
    "temp=[]\n",
    "sum_xy=0\n",
    "sum_xi=0\n",
    "sum_yi=0\n",
    "sum_x2=0\n",
    "sum_5=0\n",
    "print(\"Introduce data for x: \")\n",
    "for e in range(0, x):\n",
    "    new_x=int(input())\n",
    "    time.append(new_x)\n",
    "print(\"Introdce data for y: \")\n",
    "for i in range(0, x):\n",
    "    new_y=float(input())\n",
    "    temp.append(new_y)\n",
    "for r in range(0, x):\n",
    "        sum_xy=sum_xy+(time[r]*temp[r])\n",
    "        sum_xi=sum_xi+time[r]\n",
    "        sum_yi=sum_yi+temp[r]\n",
    "        sum_x2=sum_x2+time[r]**2\n",
    "sum_5=sum_xi**2\n",
    "b1=((x*sum_xy)-(sum_xi*sum_yi))/((x*sum_x2)-sum_5)\n",
    "b0=(sum_yi-(b1*sum_xi))/x\n",
    "print(f\"y={b0} + {b1}x\")\n",
    "print(\"Time for 35°C: \")\n",
    "time1=(35-b0)/b1\n",
    "print(time1)\n",
    "while(1):\n",
    "    print(\"Introduce 1 if yes\\nIntroduce 2 if no\")\n",
    "    decision=int(input(\"Do you want to introduce more data?: \"))\n",
    "    if decision==1:\n",
    "        new_data=int(input(\"How many new data? \"))\n",
    "        print(\"Introdce data for x: \")\n",
    "        for u in range(0, new_data):\n",
    "            new_x=int(input())\n",
    "            time.append(new_x)\n",
    "        print(\"Introdce data for y: \")\n",
    "        for l in range(0, new_data):\n",
    "            new_y=float(input())\n",
    "            temp.append(new_y)\n",
    "        for a in range(0, new_data+x):\n",
    "            sum_xy=sum_xy+(time[a]*temp[a])\n",
    "            sum_xi=sum_xi+time[a]\n",
    "            sum_yi=sum_yi+temp[a]\n",
    "            sum_x2=sum_x2+time[a]**2\n",
    "        sum_5=sum_xi**2\n",
    "        b1=((x*sum_xy)-(sum_xi*sum_yi))/((x*sum_x2)-sum_5)\n",
    "        b0=(sum_yi-(b1*sum_xi))/x\n",
    "        print(f\"y={b0} + {b1}x\")\n",
    "        print(\"Time for 35°C: \")\n",
    "        time3= (35-b0)/b1\n",
    "        print(time3)\n",
    "        \n",
    "    else:\n",
    "        print(\"Time for 35°C \")\n",
    "        time2= (35-b0)/b1\n",
    "        print(time2)\n",
    "        break"
   ]
  },
  {
   "cell_type": "code",
   "execution_count": null,
   "metadata": {},
   "outputs": [],
   "source": [
    "x=int(input(\"How many data do you want to introduce? \"))\n",
    "time=[]\n",
    "temp=[]\n",
    "sum_xy=0\n",
    "sum_xi=0\n",
    "sum_yi=0\n",
    "sum_x2=0\n",
    "sum_5=0"
   ]
  },
  {
   "cell_type": "markdown",
   "metadata": {},
   "source": [
    "In the first part of the program i define the variables that will be used, two lists for storing the values, anda variables for doing summatories.\n"
   ]
  },
  {
   "cell_type": "code",
   "execution_count": null,
   "metadata": {},
   "outputs": [],
   "source": [
    "print(\"Introduce data for x: \")\n",
    "for e in range(0, x):\n",
    "    new_x=int(input())\n",
    "    time.append(new_x)\n",
    "print(\"Introdce data for y: \")\n",
    "for i in range(0, x):\n",
    "    new_y=float(input())\n",
    "    temp.append(new_y)"
   ]
  },
  {
   "cell_type": "markdown",
   "metadata": {},
   "source": [
    "This block of code is used to introduce the values to the lists, every time the for loop fullfills a cycle a new value is stored in its respectively list."
   ]
  },
  {
   "cell_type": "code",
   "execution_count": null,
   "metadata": {},
   "outputs": [],
   "source": [
    "for r in range(0, x):\n",
    "        sum_xy=sum_xy+(time[r]*temp[r])\n",
    "        sum_xi=sum_xi+time[r]\n",
    "        sum_yi=sum_yi+temp[r]\n",
    "        sum_x2=sum_x2+time[r]**2\n",
    "sum_5=sum_xi**2\n",
    "b1=((x*sum_xy)-(sum_xi*sum_yi))/((x*sum_x2)-sum_5)\n",
    "b0=(sum_yi-(b1*sum_xi))/x\n",
    "print(f\"y={b0} + {b1}x\")\n",
    "print(\"Time for 35°C: \")\n",
    "time1=(35-b0)/b1\n",
    "print(time1)"
   ]
  },
  {
   "cell_type": "markdown",
   "metadata": {},
   "source": [
    "All this part of the code is used for obtain the linear regression equation using the formulas that the teacher gave us, then solving for x in te equation(x= y-b0/b1), it is possible to obtain a prediction for the time that te device will take to rach certain temperature, in this case x is time and y is temperature."
   ]
  },
  {
   "cell_type": "markdown",
   "metadata": {},
   "source": [
    "## Conclusion"
   ]
  },
  {
   "cell_type": "markdown",
   "metadata": {},
   "source": [
    "Using the first table i could notice that the prediction was fairly high and that was because the lack of data for obatin a certain prediction, then, adding the values from the second table, the prediction became more accurate, however, the prediction will not be completely accurate until the user adds much more values to the lists.  "
   ]
  }
 ],
 "metadata": {
  "kernelspec": {
   "display_name": "Python 3",
   "language": "python",
   "name": "python3"
  },
  "language_info": {
   "codemirror_mode": {
    "name": "ipython",
    "version": 3
   },
   "file_extension": ".py",
   "mimetype": "text/x-python",
   "name": "python",
   "nbconvert_exporter": "python",
   "pygments_lexer": "ipython3",
   "version": "3.7.3"
  }
 },
 "nbformat": 4,
 "nbformat_minor": 2
}
