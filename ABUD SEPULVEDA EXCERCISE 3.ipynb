{
 "cells": [
  {
   "cell_type": "markdown",
   "metadata": {},
   "source": [
    "# EXCERCISE 3"
   ]
  },
  {
   "cell_type": "markdown",
   "metadata": {},
   "source": [
    "Write a code that asks for how many names the user wants, and which names the code will store, finally the user will choose which position of the list of names he/she wants to print.  "
   ]
  },
  {
   "cell_type": "code",
   "execution_count": 1,
   "metadata": {},
   "outputs": [
    {
     "name": "stdout",
     "output_type": "stream",
     "text": [
      "How many names do you want to store? 3\n",
      "Introduce a name: Ricardo\n",
      "Introduce a name: Juan\n",
      "Introduce a name: Pedro\n",
      "Which position do you want me to show? 4\n",
      "Try again\n",
      "attempts remaining:  4\n",
      "Which position do you want me to show? 5\n",
      "Try again\n",
      "attempts remaining:  3\n",
      "Which position do you want me to show? 5\n",
      "Try again\n",
      "attempts remaining:  2\n",
      "Which position do you want me to show? 1\n",
      "Juan\n"
     ]
    }
   ],
   "source": [
    "names = int(input(\"How many names do you want to store? \"))\n",
    "people=[]\n",
    "tries=4\n",
    "for e in range(0, names):\n",
    "    x= input(\"Introduce a name: \")\n",
    "    people.append(x)\n",
    "for attempts in range(0,5):\n",
    "    y= int(input(\"Which position do you want me to show? \"))\n",
    "    if y<names:\n",
    "        print(people[y])\n",
    "        break\n",
    "    else:\n",
    "        if(tries==0):\n",
    "            print(\"see you the next time\")\n",
    "            break \n",
    "        else:    \n",
    "            print(\"Try again\")\n",
    "            print(\"attempts remaining: \", tries)\n",
    "    tries-=1    \n",
    "    "
   ]
  },
  {
   "cell_type": "markdown",
   "metadata": {},
   "source": [
    "When declaring a variable in this way **variable=[]** the code recognizes it as a list, the components of the list can be written inside the square brackets at the beginning or be written in other part of the code. Furthermore, in order to add values to a list variable it is used the instruction **.append()**, before the point it is written the name of the list in which the new values will be added, then, inside the parenthesis is written the value that will be added to the list. The instruction **for** is a loop in first place a variable is declared with an inicial value of 0, unless, the user gives other value before the loop, the second part is an **in** and after this, the times that the loop will be repeating are written with the instruction **range(x,y)**, where, x is from the loop will start and y the final of the loop. In addition, to stop the loop before it finishes with its cycle, the instruction **break** is used.   "
   ]
  }
 ],
 "metadata": {
  "kernelspec": {
   "display_name": "Python 3",
   "language": "python",
   "name": "python3"
  },
  "language_info": {
   "codemirror_mode": {
    "name": "ipython",
    "version": 3
   },
   "file_extension": ".py",
   "mimetype": "text/x-python",
   "name": "python",
   "nbconvert_exporter": "python",
   "pygments_lexer": "ipython3",
   "version": "3.7.3"
  }
 },
 "nbformat": 4,
 "nbformat_minor": 2
}
