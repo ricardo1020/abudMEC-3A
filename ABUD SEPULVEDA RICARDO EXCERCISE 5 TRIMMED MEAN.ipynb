{
 "cells": [
  {
   "cell_type": "markdown",
   "metadata": {},
   "source": [
    "# EXCERCISE 5"
   ]
  },
  {
   "cell_type": "markdown",
   "metadata": {},
   "source": [
    "*Develop a program that calculates trimmed mean. the user have to introduce the set of data and the percentage they want to use.*"
   ]
  },
  {
   "cell_type": "code",
   "execution_count": 55,
   "metadata": {
    "scrolled": true
   },
   "outputs": [
    {
     "name": "stdout",
     "output_type": "stream",
     "text": [
      "Introduce the number of initial data:  5\n",
      "Introduce the data: \n",
      "29\n",
      "14\n",
      "31\n",
      "57\n",
      "49\n",
      "1) For add more values\n",
      "2) For calculate trimmed mean\n",
      "1\n",
      "How many values?: 5\n",
      "23\n",
      "46\n",
      "51\n",
      "39\n",
      "49\n",
      "1) For add more values\n",
      "2) For calculate trimmed mean\n",
      "2\n",
      "Set of data sorted:  [14, 23, 29, 31, 39, 46, 49, 49, 51, 57]\n",
      "Write percentage for trimmed mean: % 20\n",
      "The trimmed mean is: 40.5\n"
     ]
    }
   ],
   "source": [
    "terms_x=int(input(\"Introduce the number of initial data:  \"))\n",
    "data_x=[]\n",
    "a=0\n",
    "tmean=0\n",
    "sum=0\n",
    "i=0\n",
    "print(\"Introduce the data: \")\n",
    "for i in range(0, terms_x):\n",
    "        new_x=int(input())\n",
    "        data_x.append(new_x)\n",
    "while(1):    \n",
    "    print(\"1) For add more values\")\n",
    "    print(\"2) For calculate trimmed mean\")\n",
    "    chose=int(input())\n",
    "    if(chose==1):\n",
    "        newt=int(input(\"How many values?: \"))\n",
    "        for f in range(0, newt):\n",
    "            new_x=int(input())\n",
    "            data_x.append(new_x)\n",
    "    elif(chose==2):\n",
    "        data_x.sort()\n",
    "        print(\"Set of data sorted: \",data_x)\n",
    "        a=int(input(\"Write percentage for trimmed mean: % \"))\n",
    "        a=a/100\n",
    "        n=len(data_x)\n",
    "        g=int(n*a)\n",
    "        r=(n*a)-g\n",
    "        i=g+1\n",
    "        while(i<=n-g-2):  \n",
    "            sum+=data_x[i]\n",
    "            i+=1  \n",
    "        part1=(1/(n*(1-2*a)))\n",
    "        tmean=(part1*(((1-r)*(data_x[g]+data_x[n-g-1]))+sum))\n",
    "        print(f\"The trimmed mean is: {tmean}\")\n",
    "        break\n",
    "    else:\n",
    "        print(\"try again\")\n",
    "      "
   ]
  },
  {
   "cell_type": "markdown",
   "metadata": {},
   "source": [
    "Firstly, the program asks to the user how many data he/she wants to introduce, then, the code store the values given by the user in a list variable called data_x. After that, the program has to options add more data or show the trimmed mean, if the user choose trimmed mean, the code applies the formula shown below in order to get the trimmed mean."
   ]
  },
  {
   "attachments": {},
   "cell_type": "markdown",
   "metadata": {},
   "source": [
    "![Formula](https://3.bp.blogspot.com/-PgC4yQOT608/XcYXFsc3veI/AAAAAAAAgjc/S-V1h4_MdI4bB78yM3B6am1M86fYF7s7wCLcBGAsYHQ/s1600/Formula.png)"
   ]
  }
 ],
 "metadata": {
  "kernelspec": {
   "display_name": "Python 3",
   "language": "python",
   "name": "python3"
  },
  "language_info": {
   "codemirror_mode": {
    "name": "ipython",
    "version": 3
   },
   "file_extension": ".py",
   "mimetype": "text/x-python",
   "name": "python",
   "nbconvert_exporter": "python",
   "pygments_lexer": "ipython3",
   "version": "3.7.3"
  }
 },
 "nbformat": 4,
 "nbformat_minor": 2
}
