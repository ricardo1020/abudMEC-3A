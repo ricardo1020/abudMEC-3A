{
 "cells": [
  {
   "cell_type": "markdown",
   "metadata": {},
   "source": [
    "# Excercise 4"
   ]
  },
  {
   "cell_type": "markdown",
   "metadata": {},
   "source": [
    "*Develop a program that calculates sample mean, mode and standard deviation based in a set of data introduced by the user. The program must ask what operation the user wants to calculate*"
   ]
  },
  {
   "cell_type": "code",
   "execution_count": 4,
   "metadata": {
    "scrolled": true
   },
   "outputs": [
    {
     "name": "stdout",
     "output_type": "stream",
     "text": [
      "Introduce the number of initial data:  3\n",
      "Introduce the data: \n",
      "12\n",
      "45\n",
      "21\n",
      "1 for add more values\n",
      "2 for show the operations\n",
      "1\n",
      "How many values?: 5\n",
      "122\n",
      "43\n",
      "55\n",
      "654\n",
      "21\n",
      "1 for add more values\n",
      "2 for show the operations\n",
      "2\n",
      "1 for sample mean\n",
      "2 for mode \n",
      "3 for standard deviation\n",
      "Which operation do you want to show?: 3\n",
      "standard deviation:  217.8413167553719\n"
     ]
    }
   ],
   "source": [
    "terms_x=int(input(\"Introduce the number of initial data:  \"))\n",
    "data_x=[]\n",
    "mean=0\n",
    "sd=0\n",
    "a=0\n",
    "b=0\n",
    "o=0\n",
    "newt=0 \n",
    "print(\"Introduce the data: \")\n",
    "for i in range(0, terms_x):\n",
    "        new_x=int(input())\n",
    "        data_x.append(new_x)\n",
    "while(1):    \n",
    "    print(\"1 for add more values\")\n",
    "    print(\"2 for show the operations\")\n",
    "    chose=int(input())\n",
    "    if(chose==1):\n",
    "        newt=int(input(\"How many values?: \"))\n",
    "        for f in range(0, newt):\n",
    "            new_x=int(input())\n",
    "            data_x.append(new_x)\n",
    "    if(chose==2):\n",
    "        print('''1 for sample mean\n",
    "2 for mode \n",
    "3 for standard deviation''' )\n",
    "        op=int(input(\"Which operation do you want to show?: \")) \n",
    "        if op==1:\n",
    "            for e in range(0,terms_x+newt):\n",
    "                mean+=data_x[e]\n",
    "            mean=mean/(terms_x+newt)   \n",
    "            print(\"Sample mean: \",mean)\n",
    "            break\n",
    "        if op==2:\n",
    "            for o in data_x:\n",
    "                a=data_x.count(o)\n",
    "                if a>b:\n",
    "                    b=a\n",
    "            modes=[]\n",
    "            for o in data_x:\n",
    "                a=data_x.count(o)\n",
    "                if a==b and o not in modes:\n",
    "                    modes.append(o)\n",
    "            print(\"mode: \",modes)\n",
    "            break\n",
    "        if op==3:\n",
    "            for e in range(0,terms_x+newt):\n",
    "                mean+=data_x[e]\n",
    "            mean=mean/(terms_x+newt)   \n",
    "            for r in range(0, terms_x+newt):\n",
    "                sd+=(data_x[r]-mean)**2\n",
    "            sd=(sd/((terms_x+newt)-1))**(1/2)    \n",
    "            print(\"standard deviation: \",sd)\n",
    "            break"
   ]
  },
  {
   "cell_type": "markdown",
   "metadata": {},
   "source": [
    "First of all, the program asks to the user how many data he/she wants to start with, then the data is stored in a list variable called data_x, after that, the program asks again if it adds more values to the list or shows the operations that can be done to the data(sample mean, mode, standard deviation). Finally depending of the election of the user the program will show one of three operations. "
   ]
  },
  {
   "cell_type": "markdown",
   "metadata": {},
   "source": [
    "### Sample mean"
   ]
  },
  {
   "cell_type": "code",
   "execution_count": null,
   "metadata": {},
   "outputs": [],
   "source": [
    "for e in range(0,terms_x+newt):\n",
    "    mean+=data_x[e]\n",
    "mean=mean/(terms_x+newt)   \n",
    "print(\"Sample mean: \",mean)"
   ]
  },
  {
   "cell_type": "markdown",
   "metadata": {},
   "source": [
    "In this block of code, inside te for loop the variable mean stores the summation of all the data in the list, then, it is divided by the number of data stored and finally it is printed to show to the user the result."
   ]
  },
  {
   "cell_type": "markdown",
   "metadata": {},
   "source": [
    "### Standard Deviation\n"
   ]
  },
  {
   "cell_type": "code",
   "execution_count": null,
   "metadata": {},
   "outputs": [],
   "source": [
    "for e in range(0,terms_x+newt):\n",
    "    mean+=data_x[e]\n",
    "mean=mean/(terms_x+newt)   \n",
    "for r in range(0, terms_x+newt):\n",
    "    sd+=(data_x[r]-mean)**2\n",
    "sd=(sd/((terms_x+newt)-1))**(1/2)    \n",
    "print(\"standard deviation: \",sd)"
   ]
  },
  {
   "cell_type": "markdown",
   "metadata": {},
   "source": [
    "At the beginning, the code calculate the sample mean, later, inside the second for loop, the code calculated a summation of every term in the list minus the sample mean in order to use this summation in the formula that is after the loop, applying the formula for standard deviation that the teacher gave me, the code shows the result to the user.  "
   ]
  }
 ],
 "metadata": {
  "kernelspec": {
   "display_name": "Python 3",
   "language": "python",
   "name": "python3"
  },
  "language_info": {
   "codemirror_mode": {
    "name": "ipython",
    "version": 3
   },
   "file_extension": ".py",
   "mimetype": "text/x-python",
   "name": "python",
   "nbconvert_exporter": "python",
   "pygments_lexer": "ipython3",
   "version": "3.7.3"
  }
 },
 "nbformat": 4,
 "nbformat_minor": 2
}
