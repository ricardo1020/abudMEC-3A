{
 "cells": [
  {
   "cell_type": "markdown",
   "metadata": {},
   "source": [
    "### EXAMPLE"
   ]
  },
  {
   "cell_type": "code",
   "execution_count": 4,
   "metadata": {
    "collapsed": true
   },
   "outputs": [
    {
     "name": "stdout",
     "output_type": "stream",
     "text": [
      "what is your name?\n",
      "Your answer: Ricardo\n",
      "Hi, Ricardo\n",
      "How old are you? \n",
      "Your answer:19\n",
      "Really? you are 19?\n"
     ]
    }
   ],
   "source": [
    "print(\"what is your name?\")\n",
    "name=input(\"Your answer: \")\n",
    "print(f\"Hi, {name}\")\n",
    "age= int(input(\"How old are you? \\nYour answer:\"))\n",
    "print(f\"Really? you are {age}?\")"
   ]
  },
  {
   "cell_type": "markdown",
   "metadata": {},
   "source": [
    "# EXCERCISE"
   ]
  },
  {
   "cell_type": "markdown",
   "metadata": {},
   "source": [
    "Write a program that ask for the age of three students and return the sample mean"
   ]
  },
  {
   "cell_type": "code",
   "execution_count": 1,
   "metadata": {
    "scrolled": false
   },
   "outputs": [
    {
     "name": "stdout",
     "output_type": "stream",
     "text": [
      "Age of student 1?: 17\n",
      "Age of student 2?: 20\n",
      "Age of student 3?: 25\n",
      "Sample mean:  20\n"
     ]
    }
   ],
   "source": [
    "x= int(input(\"Age of student 1?: \"))\n",
    "y= int(input(\"Age of student 2?: \"))\n",
    "z= int(input(\"Age of student 3?: \"))\n",
    "mean=(x+y+z)//3\n",
    "print(\"Sample mean: \", mean)\n"
   ]
  },
  {
   "cell_type": "markdown",
   "metadata": {},
   "source": [
    "In this code the variables x, y and z receive a value given by the user using the input instruction, this instruction is inside an int, the instruction int converts the number written by the user (by default the instruction input return a string) to a number that can be used to do some math operations, such as, sample mean which is part of this code. In order to obtain the sample mean of the three ages of the students, the code adds the three variables and then using the instruction // return the quotient of the division, finally using the instruction print the code displays the sample mean value. "
   ]
  }
 ],
 "metadata": {
  "kernelspec": {
   "display_name": "Python 3",
   "language": "python",
   "name": "python3"
  },
  "language_info": {
   "codemirror_mode": {
    "name": "ipython",
    "version": 3
   },
   "file_extension": ".py",
   "mimetype": "text/x-python",
   "name": "python",
   "nbconvert_exporter": "python",
   "pygments_lexer": "ipython3",
   "version": "3.7.3"
  }
 },
 "nbformat": 4,
 "nbformat_minor": 2
}
