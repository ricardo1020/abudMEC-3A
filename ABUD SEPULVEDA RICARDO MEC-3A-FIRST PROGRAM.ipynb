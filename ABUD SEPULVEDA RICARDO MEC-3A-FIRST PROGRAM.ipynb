{
 "cells": [
  {
   "cell_type": "markdown",
   "metadata": {},
   "source": [
    "# WHAT I LEARNT ABOUT PYTHON 3"
   ]
  },
  {
   "cell_type": "markdown",
   "metadata": {},
   "source": [
    "![Phyton Logo](https://www.python.org/static/community_logos/python-logo-master-v3-TM.png)"
   ]
  },
  {
   "cell_type": "markdown",
   "metadata": {},
   "source": [
    "## FIRST PROGRAM"
   ]
  },
  {
   "cell_type": "markdown",
   "metadata": {},
   "source": [
    "\"LEARN PYTHON 3 THE HARD WAY\"  that is the name of the book I was reading in order to learn how to code in python 3, first of all, the book shows us how to install the program for coding in our computers, once having the program, you can start with the first excercises in which the basic instructions are shown and explained in an easy way.  "
   ]
  },
  {
   "cell_type": "markdown",
   "metadata": {},
   "source": [
    "At the beginning of the first excercise, it is shown how to print a text using phyton code the instruction required for this purpose is \"print\" then between brackets is written the text that you want to print. "
   ]
  },
  {
   "cell_type": "markdown",
   "metadata": {},
   "source": [
    "##### EXAMPLE"
   ]
  },
  {
   "cell_type": "code",
   "execution_count": 2,
   "metadata": {
    "collapsed": true
   },
   "outputs": [
    {
     "name": "stdout",
     "output_type": "stream",
     "text": [
      "HELLO WORLD\n"
     ]
    }
   ],
   "source": [
    "print(\"HELLO WORLD\")"
   ]
  },
  {
   "cell_type": "markdown",
   "metadata": {},
   "source": [
    "In the following part, I learnt how to make comments in phyton, using the symbol \"#\" after a line of code, however, if this symbol is inside of a string, phyton will take it as a character instead of a comment instuction."
   ]
  },
  {
   "cell_type": "markdown",
   "metadata": {},
   "source": [
    "##### EXAMPLE"
   ]
  },
  {
   "cell_type": "code",
   "execution_count": 3,
   "metadata": {
    "collapsed": true
   },
   "outputs": [
    {
     "name": "stdout",
     "output_type": "stream",
     "text": [
      "It's me again\n"
     ]
    }
   ],
   "source": [
    "print(\"It's me again\") #This is a comment"
   ]
  },
  {
   "cell_type": "markdown",
   "metadata": {},
   "source": [
    "## MATHS IN PHYTON"
   ]
  },
  {
   "cell_type": "markdown",
   "metadata": {},
   "source": [
    "Python such as the majority of the coding languages has mathematical instructions, for example: addition, substraction, multiplication, division, etc. In order to do this operations in phyton it is used the following commands. "
   ]
  },
  {
   "cell_type": "markdown",
   "metadata": {},
   "source": [
    "##### MATH OPERATORS"
   ]
  },
  {
   "cell_type": "code",
   "execution_count": 5,
   "metadata": {
    "collapsed": true
   },
   "outputs": [
    {
     "name": "stdout",
     "output_type": "stream",
     "text": [
      "8\n",
      "-3\n",
      "3.0\n",
      "4\n",
      "True\n",
      "True\n",
      "True\n",
      "True\n"
     ]
    }
   ],
   "source": [
    "3+5 # addition\n",
    "4-7 # substraction\n",
    "9/3 # division\n",
    "2*2 # multiplication\n",
    "3<4 # less than\n",
    "5<=8 # less or equal than\n",
    "5>1 # greater than\n",
    "4>=0 # greater or equal than"
   ]
  },
  {
   "cell_type": "markdown",
   "metadata": {},
   "source": [
    "The instructions less than, greater than, etc. When used can only return two values true if the condition is correct or false if the condition is not correct. On the other hand, for division there are other two commands applied to it, these are \"%\" which returns the residual of the division between two numbers and \"//\" which returns the quotient of the operation."
   ]
  },
  {
   "cell_type": "markdown",
   "metadata": {},
   "source": [
    "##### QUOTIENT AND RESIDUAL EXAMPLE"
   ]
  },
  {
   "cell_type": "code",
   "execution_count": 9,
   "metadata": {
    "collapsed": true
   },
   "outputs": [
    {
     "data": {
      "text/plain": [
       "1"
      ]
     },
     "execution_count": 9,
     "metadata": {},
     "output_type": "execute_result"
    }
   ],
   "source": [
    "5%3 # This will return 2 because is the residual of the division\n",
    "5//3 # this will return 1 because is the quotient of the division"
   ]
  },
  {
   "cell_type": "markdown",
   "metadata": {},
   "source": [
    "## THE VARIABLES "
   ]
  },
  {
   "cell_type": "markdown",
   "metadata": {},
   "source": [
    "In python is very simple to make variables, in fact, it is only required to give a name to the variable, python will identify which type of variable is needed. Variables are mostly used for store values and use them inside the code, this make the code more readable and easy to understand for other people that read your programm.  "
   ]
  },
  {
   "cell_type": "markdown",
   "metadata": {},
   "source": [
    "##### EXAMPLE"
   ]
  },
  {
   "cell_type": "code",
   "execution_count": 10,
   "metadata": {},
   "outputs": [],
   "source": [
    "Text = 'car' # For store a text in a variable is used two quotes and inside the text 'text' \n",
    "Number = 123 # The program indentifies the number as an integer \n",
    "Decimal= 0.56 # Python stores this value in a float variable"
   ]
  },
  {
   "cell_type": "markdown",
   "metadata": {},
   "source": [
    "### INTEGERS (int)"
   ]
  },
  {
   "cell_type": "markdown",
   "metadata": {},
   "source": [
    "This type of variable can store negative or positive integer numbers,the programmer could use it for mathematical operations, and example of the use of this kind of variable is the following:"
   ]
  },
  {
   "cell_type": "markdown",
   "metadata": {},
   "source": [
    "##### EXAMPLE"
   ]
  },
  {
   "cell_type": "code",
   "execution_count": 13,
   "metadata": {
    "collapsed": true
   },
   "outputs": [
    {
     "name": "stdout",
     "output_type": "stream",
     "text": [
      "0.875\n"
     ]
    }
   ],
   "source": [
    "Number_1= 35\n",
    "Number_2=40\n",
    "\n",
    "print(Number_1/Number_2)"
   ]
  },
  {
   "cell_type": "markdown",
   "metadata": {},
   "source": [
    "### NON-INTEGERS (float)"
   ]
  },
  {
   "cell_type": "markdown",
   "metadata": {},
   "source": [
    "When the programmer needs to use numbers that are not integers, float is the type of variable needed, it is able to store numbers with decimal point. Example:  "
   ]
  },
  {
   "cell_type": "markdown",
   "metadata": {},
   "source": [
    "##### EXAMPLE"
   ]
  },
  {
   "cell_type": "code",
   "execution_count": 14,
   "metadata": {
    "collapsed": true
   },
   "outputs": [
    {
     "name": "stdout",
     "output_type": "stream",
     "text": [
      "0.714748\n"
     ]
    }
   ],
   "source": [
    "Decimal_1=0.457\n",
    "Decimal_2=1.564\n",
    "\n",
    "print(Decimal_1*Decimal_2)"
   ]
  },
  {
   "cell_type": "markdown",
   "metadata": {},
   "source": [
    "### TEXT (string)"
   ]
  },
  {
   "cell_type": "markdown",
   "metadata": {},
   "source": [
    "The last type of variable that can be used in python is string, this variable stores text for this, the text that the programmer wants to store has to be between double quotes \" \". "
   ]
  },
  {
   "cell_type": "markdown",
   "metadata": {},
   "source": [
    "##### EXAMPLE"
   ]
  },
  {
   "cell_type": "code",
   "execution_count": 15,
   "metadata": {
    "collapsed": true
   },
   "outputs": [
    {
     "name": "stdout",
     "output_type": "stream",
     "text": [
      "Ricardo\n"
     ]
    }
   ],
   "source": [
    "My_name= \"Ricardo\"\n",
    "\n",
    "print(My_name)"
   ]
  },
  {
   "cell_type": "markdown",
   "metadata": {},
   "source": [
    "## VARIABLES AND PRINTING"
   ]
  },
  {
   "cell_type": "markdown",
   "metadata": {},
   "source": [
    "For the use of variables inside a *string*, it is used the { } character and before the double quotes is is written **f** for format,{ } indicate to phyton that the variable placed between { } need to be formated into a string. Examples:\n"
   ]
  },
  {
   "cell_type": "markdown",
   "metadata": {},
   "source": [
    "##### EXAMPLE 1\n"
   ]
  },
  {
   "cell_type": "code",
   "execution_count": 20,
   "metadata": {},
   "outputs": [
    {
     "name": "stdout",
     "output_type": "stream",
     "text": [
      "Peter measured the length of my car and it was 4 meters \n",
      "The specs of my car say that it weights around 1.5 tons\n"
     ]
    }
   ],
   "source": [
    "car_length= 4 # meters\n",
    "car_weight= 1.5 #tons\n",
    "\n",
    "print(f\"Peter measured the length of my car and it was {car_length} meters \")\n",
    "print(f\"The specs of my car say that it weights around {car_weight} tons\")"
   ]
  },
  {
   "cell_type": "markdown",
   "metadata": {},
   "source": [
    "##### EXAMPLE 2"
   ]
  },
  {
   "cell_type": "code",
   "execution_count": 26,
   "metadata": {},
   "outputs": [
    {
     "name": "stdout",
     "output_type": "stream",
     "text": [
      "There are 32 in the group A\n",
      "The total of fruits bought by my mom was 20\n"
     ]
    }
   ],
   "source": [
    "students= 32\n",
    "print(f\"There are {students} in the group A\")\n",
    "\n",
    "apples=12\n",
    "oranges=8\n",
    "fruits= apples+oranges\n",
    "print(f\"The total of fruits bought by my mom was {fruits}\")\n"
   ]
  },
  {
   "cell_type": "markdown",
   "metadata": {},
   "source": [
    "## STRINGS AND PRINTING"
   ]
  },
  {
   "cell_type": "markdown",
   "metadata": {},
   "source": [
    "There are some operations with strings using the operators + which is used for comcatenation and * which is used for write the string the times that the programmer stablishes. "
   ]
  },
  {
   "cell_type": "code",
   "execution_count": 58,
   "metadata": {
    "collapsed": true
   },
   "outputs": [
    {
     "name": "stdout",
     "output_type": "stream",
     "text": [
      "Bluestripes\n",
      "BlueBlueBlueBlueBlue\n"
     ]
    }
   ],
   "source": [
    "shirt_color= \"Blue\"\n",
    "pattern= \"stripes\"\n",
    "print(shirt_color + pattern)\n",
    "print(shirt_color*5)"
   ]
  },
  {
   "cell_type": "markdown",
   "metadata": {},
   "source": [
    "For skip a line when writing a text it is used  the operator \\n before the word or phrase that the programmer want to have in a new line.\n"
   ]
  },
  {
   "cell_type": "markdown",
   "metadata": {},
   "source": [
    "##### EXAMPLE"
   ]
  },
  {
   "cell_type": "code",
   "execution_count": 62,
   "metadata": {
    "collapsed": true
   },
   "outputs": [
    {
     "name": "stdout",
     "output_type": "stream",
     "text": [
      "i'm here \n",
      "this is a new line \n"
     ]
    }
   ],
   "source": [
    "print(\"i\\'m here \\nthis is a new line \")"
   ]
  },
  {
   "cell_type": "markdown",
   "metadata": {},
   "source": [
    "When the programmer wants to write a whole text inside a print are used thre quotes \"\"\". "
   ]
  },
  {
   "cell_type": "markdown",
   "metadata": {},
   "source": [
    "##### EXAMPLE"
   ]
  },
  {
   "cell_type": "code",
   "execution_count": 65,
   "metadata": {
    "collapsed": true
   },
   "outputs": [
    {
     "name": "stdout",
     "output_type": "stream",
     "text": [
      " This is a very long text\n",
      " with spaces and a lot of \n",
      " unnecessary words\n"
     ]
    }
   ],
   "source": [
    "print(\"\"\" This is a very long text\n",
    " with spaces and a lot of \n",
    " unnecessary words\"\"\")"
   ]
  }
 ],
 "metadata": {
  "kernelspec": {
   "display_name": "Python 3",
   "language": "python",
   "name": "python3"
  },
  "language_info": {
   "codemirror_mode": {
    "name": "ipython",
    "version": 3
   },
   "file_extension": ".py",
   "mimetype": "text/x-python",
   "name": "python",
   "nbconvert_exporter": "python",
   "pygments_lexer": "ipython3",
   "version": "3.7.3"
  }
 },
 "nbformat": 4,
 "nbformat_minor": 2
}
